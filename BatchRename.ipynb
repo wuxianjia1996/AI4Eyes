{
  "nbformat": 4,
  "nbformat_minor": 0,
  "metadata": {
    "colab": {
      "name": "BatchRename.ipynb",
      "provenance": [],
      "mount_file_id": "1MANlYp4ErtjjJZRi83eYqdBQTve93iPX",
      "authorship_tag": "ABX9TyM90l0mOh+9AX3u0aArhfQn",
      "include_colab_link": true
    },
    "kernelspec": {
      "name": "python3",
      "display_name": "Python 3"
    },
    "language_info": {
      "name": "python"
    }
  },
  "cells": [
    {
      "cell_type": "markdown",
      "metadata": {
        "id": "view-in-github",
        "colab_type": "text"
      },
      "source": [
        "<a href=\"https://colab.research.google.com/github/wuxianjia1996/eye_images/blob/main/BatchRename.ipynb\" target=\"_parent\"><img src=\"https://colab.research.google.com/assets/colab-badge.svg\" alt=\"Open In Colab\"/></a>"
      ]
    },
    {
      "cell_type": "code",
      "execution_count": null,
      "metadata": {
        "id": "7xx9SroJD-sp"
      },
      "outputs": [],
      "source": [
        "import os\n",
        "\n",
        "class BatchRename():\n",
        "  def __init__(self):\n",
        "    self.path = 'drive/MyDrive/eye_images'\n",
        "\n",
        "  def rename(self):\n",
        "    filelist = os.listdir(self.path)\n",
        "    total_num = len(filelist)\n",
        "    i = 0\n",
        "    j,k,l = 0,0,0\n",
        "\n",
        "    for item in filelist:\n",
        "      \n",
        "      \n",
        "      if item.endswith('.jpg') or item.endswith('.JPG'):\n",
        "        src = os.path.join(os.path.abspath(self.path), item)\n",
        "        if i % 10 < 7: \n",
        "          dst = os.path.join(os.path.abspath(self.path + '/train/'), str(j).zfill(6) + '.jpg')\n",
        "          j += 1\n",
        "        elif i % 10 == 7:\n",
        "          dst = os.path.join(os.path.abspath(self.path + '/val/'), str(k).zfill(6) + '.jpg')\n",
        "          k += 1\n",
        "        elif i % 10 == 8:\n",
        "          dst = os.path.join(os.path.abspath(self.path + '/val/'), str(k).zfill(6) + '.jpg')\n",
        "          k += 1\n",
        "        else:\n",
        "          dst = os.path.join(os.path.abspath(self.path + '/test/'), str(l).zfill(6) + '.jpg')\n",
        "          l += 1\n",
        "\n",
        "        try:\n",
        "          os.rename(src, dst)\n",
        "          print('converting %s to %s ...' % (src, dst))\n",
        "          i += 1\n",
        "        except:\n",
        "          continue\n",
        "\n",
        "    print('total %d to rename %d jpgs' % (total_num, i))\n",
        "\n",
        "\n",
        "if __name__ == '__main__':\n",
        "  demo = BatchRename()\n",
        "  demo.rename()\n"
      ]
    }
  ]
}